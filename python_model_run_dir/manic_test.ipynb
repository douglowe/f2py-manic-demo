{
 "cells": [
  {
   "cell_type": "markdown",
   "metadata": {},
   "source": [
    "# MANIC / python demonstration notebook"
   ]
  },
  {
   "cell_type": "code",
   "execution_count": 1,
   "metadata": {},
   "outputs": [],
   "source": [
    "import sys\n",
    "sys.path.insert(0, '../library_files/MANIC_Python_Interface')\n",
    "\n",
    "import numpy as np\n",
    "import pandas as pd\n",
    "import matplotlib.pyplot as plt\n",
    "import MANIC_Python as MANICP\n",
    "import MAP_Monitor as MAPM\n",
    "import MAP_Parameters as MAPP"
   ]
  },
  {
   "cell_type": "markdown",
   "metadata": {},
   "source": [
    "## setting up variables to pass to the model\n",
    "\n",
    "conversion factor (pptv to molecules / cm^3_air)"
   ]
  },
  {
   "cell_type": "code",
   "execution_count": 2,
   "metadata": {},
   "outputs": [],
   "source": [
    "cfactor_p = 2.55e7"
   ]
  },
  {
   "cell_type": "markdown",
   "metadata": {},
   "source": [
    "Obtain size of C (chemical) array"
   ]
  },
  {
   "cell_type": "code",
   "execution_count": 3,
   "metadata": {},
   "outputs": [],
   "source": [
    "n_p_spec = MAPP.map_parameters.nspec"
   ]
  },
  {
   "cell_type": "markdown",
   "metadata": {},
   "source": [
    "Initialise the C array (making sure to convert from Fortran to Python indexing)"
   ]
  },
  {
   "cell_type": "code",
   "execution_count": 4,
   "metadata": {},
   "outputs": [],
   "source": [
    "c_p = np.zeros(n_p_spec,order='F')"
   ]
  },
  {
   "cell_type": "markdown",
   "metadata": {},
   "source": [
    "Gas-phase species:"
   ]
  },
  {
   "cell_type": "code",
   "execution_count": 5,
   "metadata": {},
   "outputs": [],
   "source": [
    "c_p[MAPP.map_parameters.ind_no2-1]\t\t= 20.0*cfactor_p\n",
    "c_p[MAPP.map_parameters.ind_o3-1]\t\t= 20.0e3*cfactor_p\n",
    "c_p[MAPP.map_parameters.ind_hcho-1]\t\t= 300.0*cfactor_p\n",
    "c_p[MAPP.map_parameters.ind_pan-1]\t\t= 10.0*cfactor_p\n",
    "c_p[MAPP.map_parameters.ind_co-1]\t\t= 70.0e3*cfactor_p\n",
    "c_p[MAPP.map_parameters.ind_hno3-1]\t\t= 5.0*cfactor_p\n",
    "c_p[MAPP.map_parameters.ind_so2-1]\t\t= 90.0*cfactor_p\n",
    "c_p[MAPP.map_parameters.ind_ch3sch3-1]\t= 60.0*cfactor_p\n",
    "c_p[MAPP.map_parameters.ind_h2o2-1]\t\t= 600.0*cfactor_p\n",
    "c_p[MAPP.map_parameters.ind_c2h6-1]\t\t= 500.0*cfactor_p\n",
    "c_p[MAPP.map_parameters.ind_hcl-1]\t\t= 100.0*cfactor_p\n",
    "c_p[MAPP.map_parameters.ind_ch3i-1]\t\t= 2.0*cfactor_p\n",
    "c_p[MAPP.map_parameters.ind_c3h7i-1]\t= 1.0*cfactor_p\n",
    "c_p[MAPP.map_parameters.ind_so2-1]\t\t= 90.0*cfactor_p\n",
    "c_p[MAPP.map_parameters.ind_no-1]\t\t= 10.0*cfactor_p"
   ]
  },
  {
   "cell_type": "markdown",
   "metadata": {},
   "source": [
    "Fixed species (mostly gas-phase)"
   ]
  },
  {
   "cell_type": "code",
   "execution_count": 6,
   "metadata": {},
   "outputs": [],
   "source": [
    "c_p[MAPP.map_parameters.ind_nh3-1]\t\t= 50.0*cfactor_p\n",
    "c_p[MAPP.map_parameters.ind_o2-1]\t\t= 2.1e11*cfactor_p\n",
    "c_p[MAPP.map_parameters.ind_h2o-1]\t\t= 1.25e10*cfactor_p\n",
    "c_p[MAPP.map_parameters.ind_m-1]\t\t= 1.0e12*cfactor_p\n",
    "c_p[MAPP.map_parameters.ind_ch4-1]\t\t= 1.8e6*cfactor_p\n",
    "c_p[MAPP.map_parameters.ind_n2-1]\t\t= 7.9e11*cfactor_p\n",
    "c_p[MAPP.map_parameters.ind_h2-1]\t\t= 5e5*cfactor_p\n",
    "c_p[MAPP.map_parameters.ind_co2-1]\t\t= 383e6*cfactor_p\n",
    "c_p[MAPP.map_parameters.ind_source-1]   = 1e0"
   ]
  },
  {
   "cell_type": "markdown",
   "metadata": {},
   "source": [
    "Aerosol species (initialised as molecules / cm^3_air)"
   ]
  },
  {
   "cell_type": "code",
   "execution_count": 7,
   "metadata": {},
   "outputs": [],
   "source": [
    "c_p[MAPP.map_parameters.ind_bin001001num-1] \t\t= 8.99815e+02 \n",
    "c_p[MAPP.map_parameters.ind_bin001002num-1] \t\t= 2.49219e+00 \n",
    "c_p[MAPP.map_parameters.ind_bin001001nh4plu-1] \t\t= 4.51659e+10 \n",
    "c_p[MAPP.map_parameters.ind_bin001002nh4plu-1] \t\t= 0.00000e+00 \n",
    "c_p[MAPP.map_parameters.ind_bin001001so42min-1]\t\t= 1.00318e+10 \n",
    "c_p[MAPP.map_parameters.ind_bin001002so42min-1]\t\t= 0.00000e+00 \n",
    "c_p[MAPP.map_parameters.ind_bin001001hso4min-1]\t\t= 2.30321e+10 \n",
    "c_p[MAPP.map_parameters.ind_bin001002hso4min-1]\t\t= 0.00000e+00 \n",
    "c_p[MAPP.map_parameters.ind_bin001001no3min-1]\t\t= 2.07013e+09 \n",
    "c_p[MAPP.map_parameters.ind_bin001002no3min-1]\t\t= 0.00000e+00 \n",
    "c_p[MAPP.map_parameters.ind_bin001001naplu-1]\t\t= 0.00000e+00 \n",
    "c_p[MAPP.map_parameters.ind_bin001002naplu-1]\t\t= 2.38696e+12 \n",
    "c_p[MAPP.map_parameters.ind_bin001001clmin-1]\t\t= 0.00000e+00 \n",
    "c_p[MAPP.map_parameters.ind_bin001002clmin-1]\t\t= 2.37798e+12 \n",
    "c_p[MAPP.map_parameters.ind_bin001001brmin-1]\t\t= 0.00000e+00 \n",
    "c_p[MAPP.map_parameters.ind_bin001002brmin-1]\t\t= 2.02601e+09 \n",
    "c_p[MAPP.map_parameters.ind_bin001001imin-1]\t\t= 0.00000e+00 \n",
    "c_p[MAPP.map_parameters.ind_bin001002imin-1]\t\t= 1.27948e+05 \n",
    "c_p[MAPP.map_parameters.ind_bin001001io3min-1]\t\t= 0.00000e+00 \n",
    "c_p[MAPP.map_parameters.ind_bin001002io3min-1]\t\t= 3.39903e+05 \n",
    "c_p[MAPP.map_parameters.ind_bin001001hco3min-1]\t\t= 0.00000e+00 \n",
    "c_p[MAPP.map_parameters.ind_bin001002hco3min-1]\t\t= 6.94825e+09 "
   ]
  },
  {
   "cell_type": "markdown",
   "metadata": {},
   "source": [
    "Duplicate Chemistry array - this initial composition information is used for boundary conditions"
   ]
  },
  {
   "cell_type": "code",
   "execution_count": 8,
   "metadata": {},
   "outputs": [],
   "source": [
    "cnp_p = np.copy(c_p)"
   ]
  },
  {
   "cell_type": "markdown",
   "metadata": {},
   "source": [
    "aerosol array size information"
   ]
  },
  {
   "cell_type": "code",
   "execution_count": 9,
   "metadata": {},
   "outputs": [],
   "source": [
    "m_p \t\t= 1     # should import this from MAP_Global in future...\n",
    "nd_p \t\t= 2\n",
    "du_p \t\t= np.array([[2.1e0,3.6e0]],order='F')\n",
    "uedge_p \t= np.array([[-9e-1,1.2e0],[-1.2e0,2.4e0]],order='F') \n",
    "r_r_p\t\t= np.array([[8.8e-8],[1.67e-6]],order='F')"
   ]
  },
  {
   "cell_type": "markdown",
   "metadata": {},
   "source": [
    "### Model Trajectory Information\n",
    "(read in from a input text file)"
   ]
  },
  {
   "cell_type": "code",
   "execution_count": 10,
   "metadata": {},
   "outputs": [],
   "source": [
    "mtocm = 100.0\n",
    "trajset = pd.read_csv('traj_input.csv',sep='\\s+')\n",
    "time_traj_p = trajset.time\n",
    "temp_traj_p = trajset.temp\n",
    "pres_traj_p = trajset.pres\n",
    "zmbl_traj_p = trajset.z_mbl  * mtocm\n",
    "tide_traj_p = trajset.tidal\n",
    "sun_traj_p  = trajset.sun\n",
    "\n",
    "traj_length_p = len(time_traj_p)"
   ]
  },
  {
   "cell_type": "markdown",
   "metadata": {},
   "source": [
    "### Solver control information"
   ]
  },
  {
   "cell_type": "code",
   "execution_count": 11,
   "metadata": {},
   "outputs": [],
   "source": [
    "dt_p = 3600.0      # timestep size (seconds)\n",
    "tstepmax_p = 300.0 # maximum timestep (seconds)\n",
    "pdfite_p = 0       # logic (0/1) switch for controlling PD-FiTE solver\n",
    "\n",
    "tstart_p = 0.0     # start time\n",
    "tend_p   = time_traj_p[traj_length_p-1]   # get the end time from trajectory information\n",
    "\n",
    "start_p = 1        # logic flag to indicate first step, forcing calculation of water, H+ and OH- content for aerosol"
   ]
  },
  {
   "cell_type": "markdown",
   "metadata": {},
   "source": [
    "## Call the Solver"
   ]
  },
  {
   "cell_type": "code",
   "execution_count": 12,
   "metadata": {},
   "outputs": [],
   "source": [
    "(c_p_new, cnp_new, tout_p) = MANICP.manic_python( n_p_spec=n_p_spec, c_p=c_p, cnp_p=cnp_p, cfactor_p=cfactor_p, \n",
    "\t\t\t\t\t\t\t\t\t\ttraj_length_p=traj_length_p, time_traj_p=time_traj_p,\n",
    "\t\t\t\t\t\t\t\t\t\ttemp_traj_p=temp_traj_p, pres_traj_p=pres_traj_p, \n",
    "\t\t\t\t\t\t\t\t\t\tzmbl_traj_p=zmbl_traj_p, tide_traj_p=tide_traj_p,\n",
    "\t\t\t\t\t\t\t\t\t\tsun_traj_p=sun_traj_p,\n",
    "\t\t\t\t\t\t\t\t\t\tdt_p=dt_p, tstepmax_p=tstepmax_p, pdfite_p=pdfite_p, \n",
    "\t\t\t\t\t\t\t\t\t\tm_p=m_p, nd_p=nd_p, du_p=du_p, uedge_p=uedge_p, \n",
    "\t\t\t\t\t\t\t\t\t\tr_r_p=r_r_p,\n",
    "\t\t\t\t\t\t\t\t\t\ttstart_p=tstart_p, tend_p=tend_p, start_p=start_p)"
   ]
  },
  {
   "cell_type": "code",
   "execution_count": 13,
   "metadata": {},
   "outputs": [
    {
     "name": "stdout",
     "output_type": "stream",
     "text": [
      "HNO3 orig=  127500000.0\n",
      "HNO3 in? =  524960.7480814956\n",
      "HNO3 out =  524960.7480814956\n"
     ]
    }
   ],
   "source": [
    "print('HNO3 orig= ', cnp_p[MAPP.map_parameters.ind_hno3-1])\n",
    "print('HNO3 in? = ', c_p[MAPP.map_parameters.ind_hno3-1])\n",
    "print('HNO3 out = ', c_p_new[MAPP.map_parameters.ind_hno3-1])"
   ]
  },
  {
   "cell_type": "markdown",
   "metadata": {},
   "source": [
    "## Plotting the data"
   ]
  },
  {
   "cell_type": "code",
   "execution_count": 14,
   "metadata": {},
   "outputs": [],
   "source": [
    "gas_chem = pd.read_csv('manic_gas_ppt.dat',sep='\\s+')\n",
    "manic_data = pd.read_csv('manic_microphysics.dat',sep='\\s+')"
   ]
  },
  {
   "cell_type": "code",
   "execution_count": 15,
   "metadata": {},
   "outputs": [
    {
     "data": {
      "text/plain": [
       "Text(0.5,0,'Time [days] since start of simulation')"
      ]
     },
     "execution_count": 15,
     "metadata": {},
     "output_type": "execute_result"
    },
    {
     "data": {
      "image/png": "[encoded data removed]",
      "text/plain": [
       "<Figure size 432x288 with 1 Axes>"
      ]
     },
     "metadata": {},
     "output_type": "display_data"
    }
   ],
   "source": [
    "plt.plot(manic_data.Time/(3600*24),gas_chem.CH2I2,marker='o',label=\"CH2I2\")\n",
    "plt.plot(manic_data.Time/(3600*24),gas_chem.CH2BrI,marker='o',label=\"CH2BrI\")\n",
    "plt.plot(manic_data.Time/(3600*24),gas_chem.CH2ClI,marker='o',label=\"CH2ClI\")\n",
    "plt.xlim(2,4)\n",
    "plt.legend(loc='upper left')\n",
    "plt.ylabel(\"mixing ratio (pptv)\")\n",
    "plt.xlabel(\"Time [days] since start of simulation\")\n"
   ]
  },
  {
   "cell_type": "code",
   "execution_count": null,
   "metadata": {},
   "outputs": [],
   "source": []
  },
  {
   "cell_type": "code",
   "execution_count": null,
   "metadata": {},
   "outputs": [],
   "source": []
  }
 ],
 "metadata": {
  "kernelspec": {
   "display_name": "Python 3",
   "language": "python",
   "name": "python3"
  },
  "language_info": {
   "codemirror_mode": {
    "name": "ipython",
    "version": 3
   },
   "file_extension": ".py",
   "mimetype": "text/x-python",
   "name": "python",
   "nbconvert_exporter": "python",
   "pygments_lexer": "ipython3",
   "version": "3.6.6"
  }
 },
 "nbformat": 4,
 "nbformat_minor": 2
}
